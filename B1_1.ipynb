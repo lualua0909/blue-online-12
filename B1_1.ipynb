{
  "nbformat": 4,
  "nbformat_minor": 0,
  "metadata": {
    "colab": {
      "name": "B1-1.ipynb",
      "provenance": [],
      "collapsed_sections": [],
      "authorship_tag": "ABX9TyOxndJrr/4AJAqfNxdZmH1V",
      "include_colab_link": true
    },
    "kernelspec": {
      "name": "python3",
      "display_name": "Python 3"
    },
    "language_info": {
      "name": "python"
    }
  },
  "cells": [
    {
      "cell_type": "markdown",
      "metadata": {
        "id": "view-in-github",
        "colab_type": "text"
      },
      "source": [
        "<a href=\"https://colab.research.google.com/github/lualua0909/blue-online-12/blob/master/B1_1.ipynb\" target=\"_parent\"><img src=\"https://colab.research.google.com/assets/colab-badge.svg\" alt=\"Open In Colab\"/></a>"
      ]
    },
    {
      "cell_type": "code",
      "metadata": {
        "colab": {
          "base_uri": "https://localhost:8080/"
        },
        "id": "kQjiSMZEUWsg",
        "outputId": "c2e1124e-08a8-4596-a581-cea098619fe8"
      },
      "source": [
        "n = int(input())\n",
        "aList = input()"
      ],
      "execution_count": 48,
      "outputs": [
        {
          "name": "stdout",
          "output_type": "stream",
          "text": [
            "1\n",
            "0\n"
          ]
        }
      ]
    },
    {
      "cell_type": "code",
      "metadata": {
        "id": "Iaw6ju5rjn0Y"
      },
      "source": [
        "aList = aList.split()"
      ],
      "execution_count": 49,
      "outputs": []
    },
    {
      "cell_type": "code",
      "metadata": {
        "colab": {
          "base_uri": "https://localhost:8080/"
        },
        "id": "zzpGxFcPkOUm",
        "outputId": "92d431df-05fa-4028-ff47-1badaae96d99"
      },
      "source": [
        "if n == 1:\n",
        "  if int(aList[0]) == 0:\n",
        "    print('NO')\n",
        "  else:\n",
        "    print('YES')\n",
        "else:\n",
        "  # count all 1\n",
        "  count = sum(1 for i in aList if int(i) == 1)\n",
        "  if count == n - 1:\n",
        "    print('YES')\n",
        "  else:\n",
        "    print('NO') "
      ],
      "execution_count": 51,
      "outputs": [
        {
          "output_type": "stream",
          "name": "stdout",
          "text": [
            "NO\n"
          ]
        }
      ]
    },
    {
      "cell_type": "code",
      "metadata": {
        "id": "qEIKCgd3k7WW"
      },
      "source": [
        ""
      ],
      "execution_count": 39,
      "outputs": []
    }
  ]
}