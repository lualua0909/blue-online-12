{
  "nbformat": 4,
  "nbformat_minor": 0,
  "metadata": {
    "colab": {
      "name": "L1-2.ipynb",
      "provenance": [],
      "collapsed_sections": [],
      "authorship_tag": "ABX9TyPvilYQKQZIqY5k/EbjX4d7",
      "include_colab_link": true
    },
    "kernelspec": {
      "name": "python3",
      "display_name": "Python 3"
    },
    "language_info": {
      "name": "python"
    }
  },
  "cells": [
    {
      "cell_type": "markdown",
      "metadata": {
        "id": "view-in-github",
        "colab_type": "text"
      },
      "source": [
        "<a href=\"https://colab.research.google.com/github/lualua0909/blue-online-12/blob/master/L1_2.ipynb\" target=\"_parent\"><img src=\"https://colab.research.google.com/assets/colab-badge.svg\" alt=\"Open In Colab\"/></a>"
      ]
    },
    {
      "cell_type": "code",
      "metadata": {
        "colab": {
          "base_uri": "https://localhost:8080/"
        },
        "id": "Qw22alRLqFRp",
        "outputId": "d06de4b3-26c3-42af-dc98-f34119dbf88a"
      },
      "source": [
        "str = input()"
      ],
      "execution_count": 56,
      "outputs": [
        {
          "name": "stdout",
          "output_type": "stream",
          "text": [
            "zeus\n"
          ]
        }
      ]
    },
    {
      "cell_type": "code",
      "metadata": {
        "colab": {
          "base_uri": "https://localhost:8080/"
        },
        "id": "dYlJURZMs_Jn",
        "outputId": "f8f6f4ad-586e-43b7-cb7d-c195e722e093"
      },
      "source": [
        "abc = list(map(chr, range(97, 123)))\n",
        "len(abc)"
      ],
      "execution_count": 57,
      "outputs": [
        {
          "output_type": "execute_result",
          "data": {
            "text/plain": [
              "26"
            ]
          },
          "metadata": {},
          "execution_count": 57
        }
      ]
    },
    {
      "cell_type": "code",
      "metadata": {
        "id": "oVf2VOkxu1VM"
      },
      "source": [
        "# tính 2 khoảng:\n",
        "# 1 - tính từ indexA - indexB\n",
        "# 2 - tính tổng (indexA + len - indexB)\n",
        "# ví dụ:  e(4) - u(20)\n",
        "# distance1 = 20 - 4 = 16\n",
        "# distance2 = 4 + (26 - 20) = 10"
      ],
      "execution_count": 58,
      "outputs": []
    },
    {
      "cell_type": "code",
      "metadata": {
        "colab": {
          "base_uri": "https://localhost:8080/"
        },
        "id": "-X5qKB-8v5M3",
        "outputId": "0fc20011-66dd-4b3e-a3c3-8c5b90499625"
      },
      "source": [
        "str = list('a' + str)\n",
        "str"
      ],
      "execution_count": 59,
      "outputs": [
        {
          "output_type": "execute_result",
          "data": {
            "text/plain": [
              "['a', 'z', 'e', 'u', 's']"
            ]
          },
          "metadata": {},
          "execution_count": 59
        }
      ]
    },
    {
      "cell_type": "code",
      "metadata": {
        "colab": {
          "base_uri": "https://localhost:8080/"
        },
        "id": "vQmA6yiYwHjm",
        "outputId": "b8be5370-d9e1-4d11-f747-69e032918795"
      },
      "source": [
        "count = 0\n",
        "\n",
        "for c in range(len(str) - 1):\n",
        "  indexA = abc.index(str[c])\n",
        "  indexB = abc.index(str[c+1])\n",
        "\n",
        "  if indexA > indexB:\n",
        "    indexA, indexB = indexB, indexA\n",
        "  distance1 = abs(indexB - indexA)\n",
        "  distance2 = indexA + (len(abc) - indexB)\n",
        "  \n",
        "  if distance1 > distance2:\n",
        "    count += distance2\n",
        "  else:\n",
        "    count += distance1\n",
        "\n",
        "print(count)"
      ],
      "execution_count": 64,
      "outputs": [
        {
          "output_type": "stream",
          "name": "stdout",
          "text": [
            "18\n"
          ]
        }
      ]
    },
    {
      "cell_type": "code",
      "metadata": {
        "id": "z__kqWDCwYZQ"
      },
      "source": [
        ""
      ],
      "execution_count": null,
      "outputs": []
    }
  ]
}