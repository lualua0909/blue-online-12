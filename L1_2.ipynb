{
  "nbformat": 4,
  "nbformat_minor": 0,
  "metadata": {
    "colab": {
      "name": "L1-2.ipynb",
      "provenance": [],
      "collapsed_sections": [],
      "authorship_tag": "ABX9TyM+nNC+ccYJw+1kCreYynw6",
      "include_colab_link": true
    },
    "kernelspec": {
      "name": "python3",
      "display_name": "Python 3"
    },
    "language_info": {
      "name": "python"
    }
  },
  "cells": [
    {
      "cell_type": "markdown",
      "metadata": {
        "id": "view-in-github",
        "colab_type": "text"
      },
      "source": [
        "<a href=\"https://colab.research.google.com/github/lualua0909/blue-online-12/blob/master/L1_2.ipynb\" target=\"_parent\"><img src=\"https://colab.research.google.com/assets/colab-badge.svg\" alt=\"Open In Colab\"/></a>"
      ]
    },
    {
      "cell_type": "code",
      "metadata": {
        "colab": {
          "base_uri": "https://localhost:8080/"
        },
        "id": "Qw22alRLqFRp",
        "outputId": "ea699872-b0b5-4b30-b6e0-add1b0e9fe9a"
      },
      "source": [
        "str = input()"
      ],
      "execution_count": 50,
      "outputs": [
        {
          "name": "stdout",
          "output_type": "stream",
          "text": [
            "map\n"
          ]
        }
      ]
    },
    {
      "cell_type": "code",
      "metadata": {
        "colab": {
          "base_uri": "https://localhost:8080/"
        },
        "id": "dYlJURZMs_Jn",
        "outputId": "13e781b1-8ef7-4f45-abbc-daa14d3363a2"
      },
      "source": [
        "abc = list(map(chr, range(97, 123)))\n",
        "len(abc)"
      ],
      "execution_count": 51,
      "outputs": [
        {
          "output_type": "execute_result",
          "data": {
            "text/plain": [
              "26"
            ]
          },
          "metadata": {},
          "execution_count": 51
        }
      ]
    },
    {
      "cell_type": "code",
      "metadata": {
        "id": "oVf2VOkxu1VM"
      },
      "source": [
        "# tính 2 khoảng:\n",
        "# 1 - tính từ indexA - indexB\n",
        "# 2 - tính tổng (indexA + len - indexB)\n",
        "# ví dụ:  e(4) - u(20)\n",
        "# distance1 = 20 - 4 = 16\n",
        "# distance2 = 4 + (26 - 20) = 10"
      ],
      "execution_count": 52,
      "outputs": []
    },
    {
      "cell_type": "code",
      "metadata": {
        "colab": {
          "base_uri": "https://localhost:8080/"
        },
        "id": "-X5qKB-8v5M3",
        "outputId": "93a39771-0155-48a7-d941-01f21185471f"
      },
      "source": [
        "str = list('a' + str)\n",
        "str"
      ],
      "execution_count": 53,
      "outputs": [
        {
          "output_type": "execute_result",
          "data": {
            "text/plain": [
              "['a', 'm', 'a', 'p']"
            ]
          },
          "metadata": {},
          "execution_count": 53
        }
      ]
    },
    {
      "cell_type": "code",
      "metadata": {
        "colab": {
          "base_uri": "https://localhost:8080/"
        },
        "id": "vQmA6yiYwHjm",
        "outputId": "326321bd-8768-488f-eebd-be6dc7f3eb99"
      },
      "source": [
        "count = 0\n",
        "\n",
        "for c in range(len(str) - 1):\n",
        "  indexA = abc.index(str[c])\n",
        "  indexB = abc.index(str[c+1])\n",
        "\n",
        "  if indexA > indexB:\n",
        "    indexA, indexB = indexB, indexA\n",
        "  distance1 = abs(indexB - indexA)\n",
        "  distance2 = indexA + (len(abc) - indexB)\n",
        "  count = distance1\n",
        "  if distance2 > distance1:\n",
        "    count = distance2\n",
        "\n",
        "print(count)"
      ],
      "execution_count": 55,
      "outputs": [
        {
          "output_type": "stream",
          "name": "stdout",
          "text": [
            "15\n"
          ]
        }
      ]
    },
    {
      "cell_type": "code",
      "metadata": {
        "id": "z__kqWDCwYZQ"
      },
      "source": [
        ""
      ],
      "execution_count": null,
      "outputs": []
    }
  ]
}