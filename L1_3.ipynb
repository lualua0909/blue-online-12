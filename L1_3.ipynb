{
  "nbformat": 4,
  "nbformat_minor": 0,
  "metadata": {
    "colab": {
      "name": "L1-3.ipynb",
      "provenance": [],
      "collapsed_sections": [],
      "authorship_tag": "ABX9TyNud26qjwDyqs25Z4xKbpdR",
      "include_colab_link": true
    },
    "kernelspec": {
      "name": "python3",
      "display_name": "Python 3"
    },
    "language_info": {
      "name": "python"
    }
  },
  "cells": [
    {
      "cell_type": "markdown",
      "metadata": {
        "id": "view-in-github",
        "colab_type": "text"
      },
      "source": [
        "<a href=\"https://colab.research.google.com/github/lualua0909/blue-online-12/blob/master/L1_3.ipynb\" target=\"_parent\"><img src=\"https://colab.research.google.com/assets/colab-badge.svg\" alt=\"Open In Colab\"/></a>"
      ]
    },
    {
      "cell_type": "code",
      "metadata": {
        "colab": {
          "base_uri": "https://localhost:8080/"
        },
        "id": "lJEh0bJVzxiD",
        "outputId": "dcfddc1c-2dba-4178-8a20-3ba93367db90"
      },
      "source": [
        "minute = int(input())\n",
        "aList = input()"
      ],
      "execution_count": 49,
      "outputs": [
        {
          "name": "stdout",
          "output_type": "stream",
          "text": [
            "40\n",
            "2 21 38 39 40 41 42 43 44 45 46 47 48 49 50 51 52 53 54 55 56 57 58 59 60 61 62 63 64 65 66 67 68 69 70 71 72 73 74 75\n"
          ]
        }
      ]
    },
    {
      "cell_type": "code",
      "metadata": {
        "id": "6LZb_Oy21DKY"
      },
      "source": [
        "aList = aList.split()"
      ],
      "execution_count": 50,
      "outputs": []
    },
    {
      "cell_type": "code",
      "metadata": {
        "colab": {
          "base_uri": "https://localhost:8080/"
        },
        "id": "S-KmN6U81VC1",
        "outputId": "9b00ed0b-9e5d-4a15-8b7e-8df5c1946fcd"
      },
      "source": [
        "output = 0\n",
        "# trường hợp quá 16p ko hấp dẫn\n",
        "if int(aList[0]) > 15:\n",
        "  output = 15\n",
        "else:\n",
        "  if len(aList) > 1:\n",
        "    for c in range(len(aList) - 1):\n",
        "      A = int(aList[c])\n",
        "      B = int(aList[c+1])\n",
        "      if (A + 15) >= B:\n",
        "        output = B\n",
        "      else:\n",
        "        output = A\n",
        "        break\n",
        "  else:\n",
        "    output = int(aList[0])\n",
        "  output = output + 15\n",
        "  if output > 90:\n",
        "    output = 90\n",
        "\n",
        "print(output)"
      ],
      "execution_count": 52,
      "outputs": [
        {
          "output_type": "stream",
          "name": "stdout",
          "text": [
            "17\n"
          ]
        }
      ]
    },
    {
      "cell_type": "code",
      "metadata": {
        "id": "On8-Fo1g1pxe"
      },
      "source": [
        ""
      ],
      "execution_count": null,
      "outputs": []
    }
  ]
}